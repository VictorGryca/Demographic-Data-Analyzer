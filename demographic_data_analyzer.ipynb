{
 "cells": [
  {
   "cell_type": "code",
   "execution_count": 3,
   "id": "a61c9158",
   "metadata": {},
   "outputs": [],
   "source": [
    "import pandas as pd"
   ]
  },
  {
   "cell_type": "code",
   "execution_count": 4,
   "id": "67edf630",
   "metadata": {},
   "outputs": [
    {
     "name": "stdout",
     "output_type": "stream",
     "text": [
      "Index(['age', 'workclass', 'fnlwgt', 'education', 'education-num',\n",
      "       'marital-status', 'occupation', 'relationship', 'race', 'sex',\n",
      "       'capital-gain', 'capital-loss', 'hours-per-week', 'native-country',\n",
      "       'salary'],\n",
      "      dtype='object')\n"
     ]
    }
   ],
   "source": [
    "df = pd.read_csv('adult.data.csv')\n",
    "print(df.columns)\n"
   ]
  },
  {
   "cell_type": "code",
   "execution_count": 93,
   "id": "7fe7b7d2",
   "metadata": {},
   "outputs": [
    {
     "name": "stdout",
     "output_type": "stream",
     "text": [
      "0        <=50K\n",
      "1        <=50K\n",
      "2        <=50K\n",
      "3        <=50K\n",
      "4        <=50K\n",
      "         ...  \n",
      "32556    <=50K\n",
      "32557     >50K\n",
      "32558    <=50K\n",
      "32559    <=50K\n",
      "32560     >50K\n",
      "Name: salary, Length: 32561, dtype: object\n"
     ]
    }
   ],
   "source": [
    "print(df.salary)"
   ]
  },
  {
   "cell_type": "markdown",
   "id": "655b4fc2",
   "metadata": {},
   "source": [
    "   # How many of each race are represented in this dataset? This should be a Pandas series with race names as the index labels.\n",
    "    \n",
    "    race_count = "
   ]
  },
  {
   "cell_type": "code",
   "execution_count": 14,
   "id": "b84f94e6",
   "metadata": {},
   "outputs": [
    {
     "name": "stdout",
     "output_type": "stream",
     "text": [
      "race\n",
      "White                 27816\n",
      "Black                  3124\n",
      "Asian-Pac-Islander     1039\n",
      "Amer-Indian-Eskimo      311\n",
      "Other                   271\n",
      "Name: count, dtype: int64\n"
     ]
    }
   ],
   "source": [
    "race_counts = df['race'].value_counts()\n",
    "print(race_counts)\n"
   ]
  },
  {
   "cell_type": "markdown",
   "id": "949648f0",
   "metadata": {},
   "source": [
    "# What is the average age of men?\n"
   ]
  },
  {
   "cell_type": "code",
   "execution_count": 52,
   "id": "8ed399ef",
   "metadata": {},
   "outputs": [
    {
     "name": "stdout",
     "output_type": "stream",
     "text": [
      "39.43354749885268\n"
     ]
    }
   ],
   "source": [
    "average_age_men = df.loc[df['sex'] == 'Male', ['age']].mean()['age']\n",
    "print(average_age_men)"
   ]
  },
  {
   "cell_type": "markdown",
   "id": "bacfc1b8",
   "metadata": {},
   "source": [
    "# What is the percentage of people who have a Bachelor's degree?\n"
   ]
  },
  {
   "cell_type": "code",
   "execution_count": 30,
   "id": "27dfeb58",
   "metadata": {},
   "outputs": [
    {
     "name": "stdout",
     "output_type": "stream",
     "text": [
      "16.44605509658794\n"
     ]
    }
   ],
   "source": [
    "percentage_bachelors = df['education'].value_counts()['Bachelors']/df['education'].count()*100\n",
    "\n",
    "print(percentage_bachelors)"
   ]
  },
  {
   "cell_type": "markdown",
   "id": "e3762c6a",
   "metadata": {},
   "source": [
    "### What percentage of people with advanced education (`Bachelors`, `Masters`, or `Doctorate`) make more than 50K?\n",
    "\n",
    "### What percentage of people without advanced education make more than 50K?\n",
    "\n",
    "### with and without `Bachelors`, `Masters`, or `Doctorate`"
   ]
  },
  {
   "cell_type": "code",
   "execution_count": null,
   "id": "4f1ed8ee",
   "metadata": {},
   "outputs": [
    {
     "name": "stdout",
     "output_type": "stream",
     "text": [
      "higher_education: 23.006050182733944\n",
      "lower_education: 76.99394981726606\n",
      "higher_education_rich 46.535843011613935\n",
      "lower_education_rich 17.3713601914639\n"
     ]
    }
   ],
   "source": [
    "high_edu = ['Bachelors', 'Masters','Doctorate']\n",
    "\n",
    "#total number of rows that satisfies \"high_edu\"\n",
    "total_high_edu = df.loc[df['education'].isin(high_edu)].count()['education']\n",
    "\n",
    "total_low_edu = df.loc[~df['education'].isin(high_edu)].count()['education']\n",
    "\n",
    "total_rows = df.count()['education']\n",
    "\n",
    "higher_education = total_high_edu/total_rows*100\n",
    "lower_education = total_low_edu/total_rows*100\n",
    "\n",
    "print(\"higher_education:\", higher_education)\n",
    "print(\"lower_education:\", lower_education)\n",
    "\n",
    "\n",
    "#number of rows that satisfies \"high_edu\" and has salary >50K\n",
    "total_high_edu_rich = df.loc[df['education'].isin(high_edu), 'salary'].value_counts()['>50K']\n",
    "higher_education_rich = total_high_edu_rich/total_high_edu*100\n",
    "\n",
    "total_low_edu_rich = df.loc[~df['education'].isin(high_edu), 'salary'].value_counts()['>50K']\n",
    "lower_education_rich = total_low_edu_rich/total_low_edu*100\n",
    "\n",
    "print(\"higher_education_rich\", higher_education_rich)\n",
    "print(\"lower_education_rich\", lower_education_rich)\n",
    "\n"
   ]
  },
  {
   "cell_type": "markdown",
   "id": "f5b5c912",
   "metadata": {},
   "source": [
    "# What is the minimum number of hours a person works per week (hours-per-week feature)?\n"
   ]
  },
  {
   "cell_type": "code",
   "execution_count": null,
   "id": "ee5b48cf",
   "metadata": {},
   "outputs": [
    {
     "name": "stdout",
     "output_type": "stream",
     "text": [
      "40.437455852092995\n"
     ]
    }
   ],
   "source": [
    "\n",
    "min_work_hours = df['hours-per-week'].min()\n",
    "print(min_work_hours)"
   ]
  },
  {
   "cell_type": "markdown",
   "id": "8e4e524f",
   "metadata": {},
   "source": [
    "# What percentage of the people who work the minimum number of hours per week have a salary of >50K?"
   ]
  },
  {
   "cell_type": "code",
   "execution_count": null,
   "id": "4446de40",
   "metadata": {},
   "outputs": [
    {
     "name": "stdout",
     "output_type": "stream",
     "text": [
      "20\n",
      "2\n",
      "10.0\n"
     ]
    }
   ],
   "source": [
    "#minimum hours worked per week\n",
    "min_hours = df['hours-per-week'].min()\n",
    "#number of workers that work min hours \n",
    "num_min_workers = df['hours-per-week'].value_counts()[min_hours]\n",
    "#table of these minimum workers\n",
    "min_workers = df.loc[df['hours-per-week'] == min_hours]\n",
    "#number of these workers that earn more than 50K\n",
    "num_min_rich_workers = min_workers['salary'].value_counts()['>50K']\n",
    "#percentage of the people that work minimum hours and earn > 50K         \n",
    "rich_percentage = num_min_rich_workers/num_min_workers*100\n",
    "\n",
    "print(num_min_workers)\n",
    "#print(min_workers)\n",
    "print(num_min_rich_workers)\n",
    "print(rich_percentage)"
   ]
  },
  {
   "cell_type": "markdown",
   "id": "ea39e895",
   "metadata": {},
   "source": [
    "# What country has the highest percentage of people that earn >50K?"
   ]
  },
  {
   "cell_type": "code",
   "execution_count": null,
   "id": "266126f7",
   "metadata": {},
   "outputs": [
    {
     "name": "stdout",
     "output_type": "stream",
     "text": [
      "highest_earning_country Iran\n",
      "highest_earning_country_percentage 41.86046511627907\n"
     ]
    }
   ],
   "source": [
    "\n",
    "#counts the number of people in each country\n",
    "num_people_countries = df['native-country'].value_counts()\n",
    "#print(num_people_countries)\n",
    "\n",
    "#counts how many people in each country earn more than 50K\n",
    "rich_counts = df[df['salary'] == '>50K']['native-country'].value_counts()\n",
    "#print(rich_counts)\n",
    "\n",
    "#the percentage of rich people in each country\n",
    "rich_pct_by_country = (rich_counts / num_people_countries * 100).fillna(0)\n",
    "\n",
    "\n",
    "#takes the country in the previous series (rich_pct_by_country) that has the highest percentage\n",
    "highest_earning_country = rich_pct_by_country.idxmax()\n",
    "print(\"highest_earning_country\", highest_earning_country)\n",
    "\n",
    "#takes the percentage from the highest paying country\n",
    "highest_earning_country_percentage = rich_pct_by_country.max()\n",
    "print(\"highest_earning_country_percentage\", highest_earning_country_percentage)\n",
    "\n"
   ]
  },
  {
   "cell_type": "markdown",
   "id": "3dc9b854",
   "metadata": {},
   "source": [
    "# Identify the most popular occupation for those who earn >50K in India.\n"
   ]
  },
  {
   "cell_type": "code",
   "execution_count": 33,
   "id": "a584d9dd",
   "metadata": {},
   "outputs": [
    {
     "name": "stdout",
     "output_type": "stream",
     "text": [
      "Prof-specialty\n"
     ]
    }
   ],
   "source": [
    "#finds occupations from those who have a salary higher than 50K and are indian\n",
    "indian_rich = df[(df['salary'] == '>50K') & (df['native-country'] == 'India')]['occupation'].value_counts()\n",
    "#print(indian_rich)\n",
    "\n",
    "#shows the title of the highest value (occupation with most people)\n",
    "top_IN_occupation = indian_rich.idxmax()\n",
    "print(top_IN_occupation)"
   ]
  }
 ],
 "metadata": {
  "kernelspec": {
   "display_name": "Python 3",
   "language": "python",
   "name": "python3"
  },
  "language_info": {
   "codemirror_mode": {
    "name": "ipython",
    "version": 3
   },
   "file_extension": ".py",
   "mimetype": "text/x-python",
   "name": "python",
   "nbconvert_exporter": "python",
   "pygments_lexer": "ipython3",
   "version": "3.13.5"
  }
 },
 "nbformat": 4,
 "nbformat_minor": 5
}
